{
 "cells": [
  {
   "cell_type": "code",
   "execution_count": 4,
   "metadata": {},
   "outputs": [
    {
     "name": "stdout",
     "output_type": "stream",
     "text": [
      "起始站：西直门\n",
      "终点站：七里庄\n",
      "['西直门', '4号线大兴线', '动物园', '4号线大兴线', '国家图书馆', '9号线', '白石桥南', '9号线', '白堆子', '9号线', '军事博物馆', '9号线', '北京西站', '9号线', '六里桥东', '9号线', '六里桥', '9号线', '七里庄', ('9号线', 2)]\n"
     ]
    }
   ],
   "source": [
    "def ReadFile(file_name):\n",
    "    data=dict()#字典 \n",
    "    with open(file_name, \"rt\", encoding=\"utf-8\") as file: \n",
    "        n=int(file.readline())\n",
    "        for i in range(n):\n",
    "            value=\"\"\n",
    "            line=file.readline().split()\n",
    "            for i in line[1:]:\n",
    "                value=value+i+\" \"\n",
    "            data[line[0]]=value\n",
    "    return data\n",
    "bj_subway=ReadFile(\"地铁线路信息.txt\")\n",
    "\n",
    "def BuildMap(**lines):\n",
    "    for key in lines.keys():\n",
    "        value = lines[key]\n",
    "        lines[key] = value.split()\n",
    "    stations = set()\n",
    "    for key in lines.keys():\n",
    "        stations.update(set(lines[key]))\n",
    "    system = {}\n",
    "    for station in stations:\n",
    "        next_station = {}\n",
    "        for key in lines:\n",
    "            if station in lines[key]:\n",
    "                line = lines[key]\n",
    "                idx = line.index(station)\n",
    "                if idx == 0:\n",
    "                    next_station[line[1]] = key\n",
    "                elif idx == len(line)-1:\n",
    "                    next_station[line[idx-1]]=key\n",
    "                else:\n",
    "                    next_station[line[idx-1]] = key\n",
    "                    next_station[line[idx+1]] = key\n",
    "        system[station] = next_station\n",
    "    return system\n",
    "tmp=BuildMap(**bj_subway)\n",
    "\n",
    "def DealCircle(BJ_Subway): #发现环路时将其头尾相连\n",
    "    \n",
    "    BJ_Subway[u'西直门'][u'积水潭'] = '二号线'\n",
    "    BJ_Subway[u'积水潭'][u'西直门'] = '二号线'\n",
    "    BJ_Subway[u'劲松'][u'潘家园'] = '十号线'\n",
    "    BJ_Subway[u'潘家园'][u'劲松'] = '十号线'\n",
    "    return BJ_Subway\n",
    "fin_subway = DealCircle(tmp)\n",
    "\n",
    "\n",
    "def FindPath(start, goal):\n",
    "    if start == goal:\n",
    "        return [start]\n",
    "    explored = set() \n",
    "    queue = [ [start, ('',0)]] \n",
    "    while queue:\n",
    "        path = queue.pop(0)\n",
    "        s = path[-2]\n",
    "        linenum,changetimes = path[-1]#判断换乘\n",
    "        if s == goal:\n",
    "            return path\n",
    "        for state, action in fin_subway[s].items():\n",
    "            if state not in explored:\n",
    "                linechange = changetimes\n",
    "                explored.add(state)\n",
    "                if linenum != action:\n",
    "                    linechange += 1\n",
    "                path2 = path[:-1] + [action, state, (action, linechange)]\n",
    "                queue.append(path2)\n",
    "                queue.sort(key=lambda path:path[-1][-1])\n",
    "    return []\n",
    "\n",
    "start = input(\"起始站：\")\n",
    "goal = input(\"终点站：\")\n",
    "print(FindPath(start, goal))"
   ]
  },
  {
   "cell_type": "code",
   "execution_count": null,
   "metadata": {},
   "outputs": [],
   "source": []
  }
 ],
 "metadata": {
  "kernelspec": {
   "display_name": "Python 3",
   "language": "python",
   "name": "python3"
  },
  "language_info": {
   "codemirror_mode": {
    "name": "ipython",
    "version": 3
   },
   "file_extension": ".py",
   "mimetype": "text/x-python",
   "name": "python",
   "nbconvert_exporter": "python",
   "pygments_lexer": "ipython3",
   "version": "3.7.4"
  }
 },
 "nbformat": 4,
 "nbformat_minor": 2
}
